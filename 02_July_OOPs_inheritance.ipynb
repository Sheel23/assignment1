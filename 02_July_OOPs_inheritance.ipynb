{
  "nbformat": 4,
  "nbformat_minor": 0,
  "metadata": {
    "colab": {
      "provenance": [],
      "authorship_tag": "ABX9TyMKHIX5tZwazbMSQ+q5fBvq",
      "include_colab_link": true
    },
    "kernelspec": {
      "name": "python3",
      "display_name": "Python 3"
    },
    "language_info": {
      "name": "python"
    }
  },
  "cells": [
    {
      "cell_type": "markdown",
      "metadata": {
        "id": "view-in-github",
        "colab_type": "text"
      },
      "source": [
        "<a href=\"https://colab.research.google.com/github/Sheel23/assignment1/blob/main/02_July_OOPs_inheritance.ipynb\" target=\"_parent\"><img src=\"https://colab.research.google.com/assets/colab-badge.svg\" alt=\"Open In Colab\"/></a>"
      ]
    },
    {
      "cell_type": "markdown",
      "source": [
        "##Q.1 Explain what inheritance is in object-oriented programming and why it is used."
      ],
      "metadata": {
        "id": "_SCdBdJ9S5m4"
      }
    },
    {
      "cell_type": "markdown",
      "source": [
        "**Answer**\n",
        "\n",
        "Inheritance is a fundamental concept in object-oriented programming (OOP) that allows a new class (called the derived or subclass) to inherit properties and behaviors from an existing class (called the base or superclass). In other words, inheritance enables one class to reuse and extend the attributes and methods defined in another class, promoting code reuse, organization, and modularity.\n",
        "\n",
        "Here's why inheritance is used in object-oriented programming:\n",
        "\n",
        "Code Reusability: Inheritance allows you to define common attributes and methods in a superclass and then create subclasses that inherit these features. This reduces code duplication, promotes modular design, and makes it easier to maintain and update code. Subclasses can focus on specific details while inheriting the common aspects from the superclass.\n",
        "\n",
        "Hierarchy and Specialization: Inheritance facilitates the creation of a hierarchy of classes. The superclass represents a more general or abstract concept, while subclasses represent more specific or specialized variations. This allows you to model real-world relationships and concepts more accurately.\n",
        "\n",
        "Overriding and Polymorphism: Subclasses can override methods from the superclass, providing specialized implementations. This concept is called method overriding. Polymorphism, a key aspect of OOP, allows objects of different classes to be treated as objects of a common superclass. This enables more flexible and extensible code.\n",
        "\n",
        "Extensibility: When requirements change or new features need to be added, inheritance makes it easier to extend existing functionality by creating new subclasses. Existing code remains untouched, which reduces the risk of introducing bugs.\n",
        "\n",
        "Efficiency: Inheritance can lead to more efficient code. Common behaviors and attributes are defined in the superclass, avoiding redundancy in code and improving memory utilization.\n",
        "\n",
        "Consistency and Standardization: Inheritance promotes consistent design patterns and enforces a standardized way of implementing common features across different classes. This contributes to code maintainability and readability."
      ],
      "metadata": {
        "id": "pqYmfNV7TGqc"
      }
    },
    {
      "cell_type": "markdown",
      "source": [
        "##Q 2. Discuss the concept of single inheritance and multiple inheritance, highlighting their differences and advantages."
      ],
      "metadata": {
        "id": "Pjzo7nb3TYg8"
      }
    },
    {
      "cell_type": "markdown",
      "source": [
        "**Answer**\n",
        "\n",
        "1. Single Inheritance:\n",
        "\n",
        "In single inheritance, a class can only inherit from a single superclass. This means that each class has only one immediate parent class from which it derives its attributes and methods. Single inheritance results in a linear class hierarchy.\n",
        "\n",
        "Advantages of Single Inheritance:\n",
        "\n",
        "Simplicity: Single inheritance tends to create simpler and more manageable class hierarchies. Each class has a clear and direct relationship with its parent class.\n",
        "\n",
        "Avoiding Diamond Problem: The Diamond Problem is a complication that arises in multiple inheritance scenarios (discussed below), where a class inherits from two classes that have a common ancestor. Single inheritance avoids this problem altogether, eliminating potential ambiguities.\n",
        "\n",
        "Less Complexity: Single inheritance makes the codebase less complex because each class has only one parent class to inherit from, reducing the chances of conflicting or ambiguous method and attribute definitions.\n",
        "\n",
        "2. Multiple Inheritance:\n",
        "\n",
        "In multiple inheritance, a class can inherit from multiple superclasses. This allows a class to acquire attributes and methods from multiple sources. However, this approach can lead to complexities when not managed carefully, especially concerning the Diamond Problem.\n",
        "\n",
        "Advantages of Multiple Inheritance:\n",
        "\n",
        "Code Reusability: Multiple inheritance can provide higher code reusability since a class can inherit attributes and methods from multiple sources. This can lead to more modular and compact code.\n",
        "\n",
        "Richer Class Relationships: Multiple inheritance allows classes to model complex relationships and behaviors more accurately by inheriting traits from various sources.\n",
        "\n",
        "Differences and Considerations:\n",
        "\n",
        "Diamond Problem: The Diamond Problem is a challenge specific to multiple inheritance. It occurs when a class inherits from two classes that share a common ancestor. If both parent classes define a method with the same name, it becomes ambiguous which method the subclass should inherit. This can lead to unexpected behavior and make the code harder to maintain.\n",
        "\n",
        "Complexity: Multiple inheritance can introduce complexity, as classes inherit from multiple sources, potentially leading to name clashes, method conflicts, and a less clear hierarchy.\n",
        "\n",
        "Language Support: Not all programming languages support multiple inheritance due to the challenges it presents. For example, Java only supports single inheritance for classes but allows multiple inheritance for interfaces. Python supports multiple inheritance but provides mechanisms to manage potential ambiguities, like method resolution order (MRO)."
      ],
      "metadata": {
        "id": "YkSHMV2kTcE9"
      }
    },
    {
      "cell_type": "markdown",
      "source": [
        "##Q 3. Explain the terms \"base class\" and \"derived class\" in the context of inheritance."
      ],
      "metadata": {
        "id": "O4cotLOWTqIA"
      }
    },
    {
      "cell_type": "markdown",
      "source": [
        "**Answer**\n",
        "\n",
        "In the context of inheritance in object-oriented programming (OOP), \"base class\" and \"derived class\" are terms used to describe the relationship between two classes within an inheritance hierarchy.\n",
        "\n",
        "Base Class:\n",
        "A base class, also known as a superclass or parent class, is the class from which other classes inherit properties and methods. It serves as a template or blueprint that defines common attributes and behaviors that can be shared among multiple classes. The base class provides the foundation upon which derived classes are built. It encapsulates the general characteristics that the derived classes will inherit and specialize.\n",
        "\n",
        "Derived Class:\n",
        "A derived class, also known as a subclass or child class, is a class that inherits attributes and methods from a base class. The derived class extends or adds to the functionality of the base class by including additional attributes and methods or by modifying the inherited ones. It can also define its own unique attributes and methods. The derived class establishes a more specific or specialized concept compared to the more general concept represented by the base class."
      ],
      "metadata": {
        "id": "wFRllRv_TsSS"
      }
    },
    {
      "cell_type": "code",
      "execution_count": 1,
      "metadata": {
        "id": "TMZ6PXPXSqlq"
      },
      "outputs": [],
      "source": [
        "#  Example\n",
        "\n",
        "class Animal:  # Base class\n",
        "    def speak(self):\n",
        "        pass\n",
        "\n",
        "class Dog(Animal):  # Derived class\n",
        "    def speak(self):\n",
        "        return \"Woof!\"\n",
        "\n",
        "class Cat(Animal):  # Another derived class\n",
        "    def speak(self):\n",
        "        return \"Meow!\"\n"
      ]
    },
    {
      "cell_type": "markdown",
      "source": [
        "##Q 4. What is the significance of the \"protected\" access modifier in inheritance? How does it differ from \"private\" and \"public\" modifiers?"
      ],
      "metadata": {
        "id": "txFRtXFnUCb_"
      }
    },
    {
      "cell_type": "markdown",
      "source": [
        "**Answer**\n",
        "\n",
        "In object-oriented programming, access modifiers are keywords that control the visibility and accessibility of class members (attributes and methods) within the class and its subclasses. The three main access modifiers are \"private,\" \"protected,\" and \"public.\" These modifiers play a crucial role in encapsulation, which is one of the fundamental principles of OOP.\n",
        "\n",
        "1. Private Access Modifier:\n",
        "A member declared as \"private\" is only accessible within the class in which it is defined. It cannot be accessed or modified from outside the class, even from its subclasses. This ensures strong encapsulation and limits the direct interaction with class internals. Private members are typically used for internal implementation details that should not be exposed to external code."
      ],
      "metadata": {
        "id": "RxOs83gfUR7r"
      }
    },
    {
      "cell_type": "code",
      "source": [
        "class Example:\n",
        "    def __init__(self):\n",
        "        self.__private_attribute = 42\n",
        "\n",
        "    def __private_method(self):\n",
        "        pass\n"
      ],
      "metadata": {
        "id": "CGI_AVx2T6in"
      },
      "execution_count": 3,
      "outputs": []
    },
    {
      "cell_type": "markdown",
      "source": [
        "2. Protected Access Modifier:\n",
        "In some programming languages like Python, there is no strict \"protected\" access modifier like in languages like Java or C++. However, a convention is used to indicate that an attribute or method should be treated as protected. Attributes and methods prefixed with a single underscore (e.g., _protected_attribute) are considered protected and are meant to be used within the class and its subclasses."
      ],
      "metadata": {
        "id": "MV2YLas1UiSc"
      }
    },
    {
      "cell_type": "code",
      "source": [
        "class Base:\n",
        "    def __init__(self):\n",
        "        self._protected_attribute = 10\n",
        "class Derived(Base):\n",
        "    def access_protected(self):\n",
        "        print(self._protected_attribute)\n"
      ],
      "metadata": {
        "id": "poDSoK_cUao8"
      },
      "execution_count": 4,
      "outputs": []
    },
    {
      "cell_type": "markdown",
      "source": [
        "3. Public Access Modifier:\n",
        "A member declared as \"public\" is accessible from anywhere, both within and outside the class hierarchy. There are no restrictions on accessing public members. This is the default access level if no access modifier is specified."
      ],
      "metadata": {
        "id": "YuZB2aR5Utr6"
      }
    },
    {
      "cell_type": "code",
      "source": [
        "class Example:\n",
        "    def __init__(self):\n",
        "        self.public_attribute = 99\n",
        "\n",
        "    def public_method(self):\n",
        "        pass\n"
      ],
      "metadata": {
        "id": "1tHB00HfUmtW"
      },
      "execution_count": 6,
      "outputs": []
    },
    {
      "cell_type": "markdown",
      "source": [
        "##Q5. What is the purpose of the \"super\" keyword in inheritance? Provide an example."
      ],
      "metadata": {
        "id": "NZoF_SXdU6LV"
      }
    },
    {
      "cell_type": "markdown",
      "source": [
        "**Answer**\n",
        "\n",
        "The \"super\" keyword is used in object-oriented programming languages to refer to the immediate parent class of a subclass. It provides a way to access and call methods and attributes defined in the superclass from within the subclass. The primary purpose of the \"super\" keyword is to facilitate method overriding while allowing the subclass to reuse and extend the behavior of the superclass.\n"
      ],
      "metadata": {
        "id": "9Yq92aPfU_ao"
      }
    },
    {
      "cell_type": "code",
      "source": [
        "class Animal:\n",
        "    def __init__(self, name):\n",
        "        self.name = name\n",
        "\n",
        "    def speak(self):\n",
        "        pass\n",
        "\n",
        "class Dog(Animal):\n",
        "    def __init__(self, name, breed):\n",
        "        super().__init__(name)  # Call parent class constructor\n",
        "        self.breed = breed\n",
        "\n",
        "    def speak(self):\n",
        "        return \"Woof!\"\n",
        "\n",
        "class Cat(Animal):\n",
        "    def __init__(self, name, color):\n",
        "        super().__init__(name)  # Call parent class constructor\n",
        "        self.color = color\n",
        "\n",
        "    def speak(self):\n",
        "        return \"Meow!\"\n",
        "\n",
        "# Creating instances of subclasses\n",
        "dog = Dog(\"Buddy\", \"Golden Retriever\")\n",
        "cat = Cat(\"Whiskers\", \"Gray\")\n",
        "\n",
        "# Using the speak method of subclasses\n",
        "print(dog.name, \"says:\", dog.speak())\n",
        "print(cat.name, \"says:\", cat.speak())\n"
      ],
      "metadata": {
        "colab": {
          "base_uri": "https://localhost:8080/"
        },
        "id": "G_YPLO5lUxJj",
        "outputId": "957bdb26-b6c0-4e54-83b4-73bec5e26bf3"
      },
      "execution_count": 7,
      "outputs": [
        {
          "output_type": "stream",
          "name": "stdout",
          "text": [
            "Buddy says: Woof!\n",
            "Whiskers says: Meow!\n"
          ]
        }
      ]
    },
    {
      "cell_type": "markdown",
      "source": [
        "##Q6. Create a base class called \"Vehicle\" with attributes like \"make\", \"model\", and \"year\".Then, create a derived class called \"Car\" that inherits from \"Vehicle\" and adds an attribute called \"fuel_type\". Implement appropriate methods in both classes."
      ],
      "metadata": {
        "id": "uDIwh_sxVRPl"
      }
    },
    {
      "cell_type": "markdown",
      "source": [
        "**Answer**\n",
        "\n"
      ],
      "metadata": {
        "id": "vjbge7dVVWK7"
      }
    },
    {
      "cell_type": "code",
      "source": [
        "class Vehicle:\n",
        "    def __init__(self, make, model, year):\n",
        "        self.make = make\n",
        "        self.model = model\n",
        "        self.year = year\n",
        "\n",
        "    def display_info(self):\n",
        "        return f\"{self.year} {self.make} {self.model}\"\n",
        "\n",
        "class Car(Vehicle):\n",
        "    def __init__(self, make, model, year, fuel_type):\n",
        "        super().__init__(make, model, year)\n",
        "        self.fuel_type = fuel_type\n",
        "\n",
        "    def display_info(self):\n",
        "        base_info = super().display_info()\n",
        "        return f\"{base_info}, Fuel Type: {self.fuel_type}\"\n",
        "\n",
        "# Creating instances of the derived class\n",
        "car1 = Car(\"Toyota\", \"Camry\", 2022, \"Gasoline\")\n",
        "car2 = Car(\"Tesla\", \"Model 3\", 2023, \"Electric\")\n",
        "\n",
        "# Using methods of the classes\n",
        "print(\"Car 1:\", car1.display_info())\n",
        "print(\"Car 2:\", car2.display_info())\n"
      ],
      "metadata": {
        "colab": {
          "base_uri": "https://localhost:8080/"
        },
        "id": "JbU-oChZVJIi",
        "outputId": "10ad8153-cdc2-440b-8311-3198801f3310"
      },
      "execution_count": 8,
      "outputs": [
        {
          "output_type": "stream",
          "name": "stdout",
          "text": [
            "Car 1: 2022 Toyota Camry, Fuel Type: Gasoline\n",
            "Car 2: 2023 Tesla Model 3, Fuel Type: Electric\n"
          ]
        }
      ]
    },
    {
      "cell_type": "markdown",
      "source": [
        "##Q7. Create a base class called \"Employee\" with attributes like \"name\" and \"salary.\"Derive two classes, \"Manager\" and \"Developer,\" from \"Employee.\" Add an additional attribute called \"department\" for the \"Manager\" class and \"programming_language\" for the \"Developer\" class."
      ],
      "metadata": {
        "id": "ps-z5tWBViDq"
      }
    },
    {
      "cell_type": "markdown",
      "source": [
        "**Answer**"
      ],
      "metadata": {
        "id": "tZNShZXxVnl8"
      }
    },
    {
      "cell_type": "code",
      "source": [
        "class Employee:\n",
        "    def __init__(self, name, salary):\n",
        "        self.name = name\n",
        "        self.salary = salary\n",
        "\n",
        "    def display_info(self):\n",
        "        return f\"Name: {self.name}, Salary: ${self.salary}\"\n",
        "\n",
        "class Manager(Employee):\n",
        "    def __init__(self, name, salary, department):\n",
        "        super().__init__(name, salary)\n",
        "        self.department = department\n",
        "\n",
        "    def display_info(self):\n",
        "        base_info = super().display_info()\n",
        "        return f\"{base_info}, Department: {self.department}\"\n",
        "\n",
        "class Developer(Employee):\n",
        "    def __init__(self, name, salary, programming_language):\n",
        "        super().__init__(name, salary)\n",
        "        self.programming_language = programming_language\n",
        "\n",
        "    def display_info(self):\n",
        "        base_info = super().display_info()\n",
        "        return f\"{base_info}, Programming Language: {self.programming_language}\"\n",
        "\n",
        "# Creating instances of the derived classes\n",
        "manager = Manager(\"Alice\", 80000, \"HR\")\n",
        "developer = Developer(\"Bob\", 70000, \"Python\")\n",
        "\n",
        "# Using methods of the classes\n",
        "print(manager.display_info())\n",
        "print(developer.display_info())\n"
      ],
      "metadata": {
        "colab": {
          "base_uri": "https://localhost:8080/"
        },
        "id": "ZJpxYoXnVcIA",
        "outputId": "b7d099fa-abf4-4480-e769-29cc6ee53f6d"
      },
      "execution_count": 9,
      "outputs": [
        {
          "output_type": "stream",
          "name": "stdout",
          "text": [
            "Name: Alice, Salary: $80000, Department: HR\n",
            "Name: Bob, Salary: $70000, Programming Language: Python\n"
          ]
        }
      ]
    },
    {
      "cell_type": "markdown",
      "source": [
        "##Q8. Design a base class called \"Shape\" with attributes like \"colour\" and \"border_width.\"Create derived classes, \"Rectangle\" and \"Circle,\" that inherit from \"Shape\" and add specific attributes like \"length\" and \"width\" for the \"Rectangle\" class and \"radius\" for the \"Circle\" class."
      ],
      "metadata": {
        "id": "LJyG_HPuV1vI"
      }
    },
    {
      "cell_type": "markdown",
      "source": [
        "**Answer**"
      ],
      "metadata": {
        "id": "x1Z3sCaNV7qo"
      }
    },
    {
      "cell_type": "code",
      "source": [
        "class Shape:\n",
        "    def __init__(self, colour, border_width):\n",
        "        self.colour = colour\n",
        "        self.border_width = border_width\n",
        "\n",
        "    def display_info(self):\n",
        "        return f\"Colour: {self.colour}, Border Width: {self.border_width}\"\n",
        "\n",
        "class Rectangle(Shape):\n",
        "    def __init__(self, colour, border_width, length, width):\n",
        "        super().__init__(colour, border_width)\n",
        "        self.length = length\n",
        "        self.width = width\n",
        "\n",
        "    def display_info(self):\n",
        "        base_info = super().display_info()\n",
        "        return f\"{base_info}, Length: {self.length}, Width: {self.width}\"\n",
        "\n",
        "class Circle(Shape):\n",
        "    def __init__(self, colour, border_width, radius):\n",
        "        super().__init__(colour, border_width)\n",
        "        self.radius = radius\n",
        "\n",
        "    def display_info(self):\n",
        "        base_info = super().display_info()\n",
        "        return f\"{base_info}, Radius: {self.radius}\"\n",
        "\n",
        "# Creating instances of the derived classes\n",
        "rectangle = Rectangle(\"Red\", 2, 10, 5)\n",
        "circle = Circle(\"Blue\", 1, 7)\n",
        "\n",
        "# Using methods of the classes\n",
        "print(rectangle.display_info())\n",
        "print(circle.display_info())"
      ],
      "metadata": {
        "colab": {
          "base_uri": "https://localhost:8080/"
        },
        "id": "rTVPY085Vt0r",
        "outputId": "b71c275c-adc8-4c92-e0d3-3385596c7dfa"
      },
      "execution_count": 10,
      "outputs": [
        {
          "output_type": "stream",
          "name": "stdout",
          "text": [
            "Colour: Red, Border Width: 2, Length: 10, Width: 5\n",
            "Colour: Blue, Border Width: 1, Radius: 7\n"
          ]
        }
      ]
    },
    {
      "cell_type": "markdown",
      "source": [
        "##Q9. Create a base class called \"Device\" with attributes like \"brand\" and \"model.\" Derivetwo classes, \"Phone\" and \"Tablet,\" from \"Device.\" Add specific attributes like \"screen_size\" for the \"Phone\" class and \"battery_capacity\" for the \"Tablet\" class."
      ],
      "metadata": {
        "id": "70lrAEHRWID6"
      }
    },
    {
      "cell_type": "markdown",
      "source": [
        "**Answer**"
      ],
      "metadata": {
        "id": "nPfBULzRWRwd"
      }
    },
    {
      "cell_type": "code",
      "source": [
        "class Device:\n",
        "    def __init__(self, brand, model):\n",
        "        self.brand = brand\n",
        "        self.model = model\n",
        "\n",
        "    def display_info(self):\n",
        "        return f\"Brand: {self.brand}, Model: {self.model}\"\n",
        "\n",
        "class Phone(Device):\n",
        "    def __init__(self, brand, model, screen_size):\n",
        "        super().__init__(brand, model)\n",
        "        self.screen_size = screen_size\n",
        "\n",
        "    def display_info(self):\n",
        "        base_info = super().display_info()\n",
        "        return f\"{base_info}, Screen Size: {self.screen_size}\"\n",
        "\n",
        "class Tablet(Device):\n",
        "    def __init__(self, brand, model, battery_capacity):\n",
        "        super().__init__(brand, model)\n",
        "        self.battery_capacity = battery_capacity\n",
        "\n",
        "    def display_info(self):\n",
        "        base_info = super().display_info()\n",
        "        return f\"{base_info}, Battery Capacity: {self.battery_capacity}\"\n",
        "\n",
        "# Creating instances of the derived classes\n",
        "phone = Phone(\"Apple\", \"iPhone 12\", \"6.1 inches\")\n",
        "tablet = Tablet(\"Samsung\", \"Galaxy Tab S7\", \"8000 mAh\")\n",
        "\n",
        "# Using methods of the classes\n",
        "print(phone.display_info())\n",
        "print(tablet.display_info())\n"
      ],
      "metadata": {
        "colab": {
          "base_uri": "https://localhost:8080/"
        },
        "id": "iz14ImkfWBRh",
        "outputId": "22eb3072-12a6-4dbf-9739-3fc399860161"
      },
      "execution_count": 11,
      "outputs": [
        {
          "output_type": "stream",
          "name": "stdout",
          "text": [
            "Brand: Apple, Model: iPhone 12, Screen Size: 6.1 inches\n",
            "Brand: Samsung, Model: Galaxy Tab S7, Battery Capacity: 8000 mAh\n"
          ]
        }
      ]
    },
    {
      "cell_type": "markdown",
      "source": [
        "##Q10. Create a base class called \"BankAccount\" with attributes like \"account_number\" and \"balance.\" Derive two classes, \"SavingsAccount\" and \"CheckingAccount,\" from \"BankAccount.\" Add specific methods like \"calculate_interest\" for the \"SavingsAccount\" class and \"deduct_fees\" for the \"CheckingAccount\" class."
      ],
      "metadata": {
        "id": "8nC1B2azWZC3"
      }
    },
    {
      "cell_type": "markdown",
      "source": [
        "**Answer**"
      ],
      "metadata": {
        "id": "Q-0ckbL1Wjkr"
      }
    },
    {
      "cell_type": "code",
      "source": [
        "class BankAccount:\n",
        "    def __init__(self, account_number, balance):\n",
        "        self.account_number = account_number\n",
        "        self.balance = balance\n",
        "\n",
        "    def display_info(self):\n",
        "        return f\"Account Number: {self.account_number}, Balance: ${self.balance:.2f}\"\n",
        "\n",
        "class SavingsAccount(BankAccount):\n",
        "    def __init__(self, account_number, balance, interest_rate):\n",
        "        super().__init__(account_number, balance)\n",
        "        self.interest_rate = interest_rate\n",
        "\n",
        "    def calculate_interest(self):\n",
        "        return self.balance * (self.interest_rate / 100)\n",
        "\n",
        "class CheckingAccount(BankAccount):\n",
        "    def __init__(self, account_number, balance, transaction_fees):\n",
        "        super().__init__(account_number, balance)\n",
        "        self.transaction_fees = transaction_fees\n",
        "\n",
        "    def deduct_fees(self):\n",
        "        self.balance -= self.transaction_fees\n",
        "\n",
        "# Creating instances of the derived classes\n",
        "savings_account = SavingsAccount(\"SA123\", 5000, 2.5)\n",
        "checking_account = CheckingAccount(\"CA456\", 1000, 5)\n",
        "\n",
        "# Using methods of the classes\n",
        "print(savings_account.display_info())\n",
        "print(\"Interest:\", savings_account.calculate_interest())\n",
        "\n",
        "print(checking_account.display_info())\n",
        "print(\"Balance before fees:\", checking_account.balance)\n",
        "checking_account.deduct_fees()\n",
        "print(\"Balance after fees:\", checking_account.balance)\n"
      ],
      "metadata": {
        "colab": {
          "base_uri": "https://localhost:8080/"
        },
        "id": "NBvBE9S0WUnl",
        "outputId": "06acf6aa-8dd7-4286-c7fb-b341cc9eac5d"
      },
      "execution_count": 12,
      "outputs": [
        {
          "output_type": "stream",
          "name": "stdout",
          "text": [
            "Account Number: SA123, Balance: $5000.00\n",
            "Interest: 125.0\n",
            "Account Number: CA456, Balance: $1000.00\n",
            "Balance before fees: 1000\n",
            "Balance after fees: 995\n"
          ]
        }
      ]
    },
    {
      "cell_type": "code",
      "source": [],
      "metadata": {
        "id": "XZO6s62BWo3Q"
      },
      "execution_count": null,
      "outputs": []
    }
  ]
}