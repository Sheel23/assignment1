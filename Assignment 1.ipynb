{
  "nbformat": 4,
  "nbformat_minor": 0,
  "metadata": {
    "colab": {
      "provenance": []
    },
    "kernelspec": {
      "name": "python3",
      "display_name": "Python 3"
    },
    "language_info": {
      "name": "python"
    }
  },
  "cells": [
    {
      "cell_type": "markdown",
      "source": [
        "1.In the below elements which of them are values or an expression?\n",
        "\n",
        "eg:- values can be\n",
        "integer or string and expressions will be mathematical operators.\n",
        "\n",
        "*\n",
        "\n",
        "&#39;hello&#39;\n",
        "\n",
        "-87.8\n",
        "\n",
        "-\n",
        "\n",
        "/\n",
        "\n",
        "+\n",
        "\n",
        "6\n",
        "\n",
        "Answer:-\n",
        "\n",
        "\"hello\"(string)\n",
        "\n",
        "-87.8(float)\n",
        "\n",
        "6(integer)\n",
        "\n",
        "** is mutiplication oprator\n",
        "\n",
        "-- is substract oprator\n",
        "\n",
        "/ is division oprator\n",
        "\n",
        "++ is addition oprator"
      ],
      "metadata": {
        "id": "pS-ja9VOHoKi"
      }
    },
    {
      "cell_type": "markdown",
      "source": [
        "##2.What is the difference between string and variable?\n",
        "\n",
        "#String\n",
        "A string is a data type that represents a sequence of characters. It is used to store and manipulate textual data. In most programming languages, strings are enclosed in quotation marks (either single or double quotes).\n",
        "example=\"satyasheel\"\n",
        "\n",
        "#Variable\n",
        "A variable is a named storage location that holds a value or data. It is used to store and refer to different types of data, including strings. Variables allow you to assign and update values throughout the execution of a program. When a variable is assigned a string value, it stores that string in memory and can be used to access or manipulate the string. Variables have names that help identify and reference them within the program."
      ],
      "metadata": {
        "id": "bPzhqlI7Lacm"
      }
    },
    {
      "cell_type": "markdown",
      "source": [
        "##3.Describe three different data types.\n",
        "\n",
        "Integer: The integer data type represents whole numbers without decimal points. It can be positive, negative, or zero. For example, 5, -10, and 0 are integers.\n",
        "\n",
        "Float: The floating-point data type represents decimal numbers. It is used to store numbers with fractional parts. For example, 3.14, -2.5, and 0.75 are floating-point numbers.\n",
        "\n",
        "String: The string data type represents a sequence of characters. It is used to store textual data such as words, sentences, or any combination of characters. Strings are enclosed in quotation marks (single or double) to distinguish them from other data types. For example= \"satyasheel"
      ],
      "metadata": {
        "id": "7yqM9OwgMYfP"
      }
    },
    {
      "cell_type": "markdown",
      "source": [
        "##4.What is an expression made up of? What do all expressions do?\n",
        "An expression in programming is made up of one or more values, variables, operators, and function calls, combined in a way that produces a resulting value. It represents a computation or a combination of data that the program evaluates."
      ],
      "metadata": {
        "id": "lxsRyPqfOQg_"
      }
    },
    {
      "cell_type": "markdown",
      "source": [
        "##5. This assignment statements, like spam = 10. What is the difference between an expression and a statement?\n",
        "\n",
        "In programming, expressions and statements are two fundamental concepts, but they have distinct characteristics:\n",
        "\n",
        "Expression:\n",
        "\n",
        "An expression is a combination of values, variables, operators, and function calls that evaluates to a single value.\n",
        "It produces a result when it is evaluated.\n",
        "Expressions can be used as part of larger expressions, assigned to variables, or passed as arguments to functions.\n",
        "\n",
        "Statement:\n",
        "\n",
        "A statement is a complete instruction or command that performs an action or sequence of actions.\n",
        "It carries out a specific task or operation.\n",
        "Examples of statements include assignment statements (spam = 10), conditional statements (if, else, elif), loop statements (for, while), and function definitions."
      ],
      "metadata": {
        "id": "9Q7CM2azO6X0"
      }
    },
    {
      "cell_type": "markdown",
      "source": [
        "##6.After running the following code, what does the variable bacon contain?\n",
        "bacon = 22\n",
        "\n",
        "bacon + 1"
      ],
      "metadata": {
        "id": "Z8XlKGtpUwQX"
      }
    },
    {
      "cell_type": "code",
      "execution_count": 14,
      "metadata": {
        "colab": {
          "base_uri": "https://localhost:8080/"
        },
        "id": "9W3UNG0U6ExV",
        "outputId": "90a0e340-4a63-43da-b0cb-95b8e3663d64"
      },
      "outputs": [
        {
          "output_type": "execute_result",
          "data": {
            "text/plain": [
              "23"
            ]
          },
          "metadata": {},
          "execution_count": 14
        }
      ],
      "source": [
        "bacon=22\n",
        "bacon+1"
      ]
    },
    {
      "cell_type": "markdown",
      "source": [
        "##7. What should the values of the following two terms be?\n",
        "&#39;spam&#39; + &#39;spamspam&#39;\n",
        "\n",
        "&#39;spam&#39; * 3"
      ],
      "metadata": {
        "id": "gqqWXERLVMni"
      }
    },
    {
      "cell_type": "code",
      "source": [
        "'spam'+'spamspam'"
      ],
      "metadata": {
        "colab": {
          "base_uri": "https://localhost:8080/",
          "height": 36
        },
        "id": "nCkgwydM62mr",
        "outputId": "dcade122-c2fe-441a-eb7b-c45e80c164f3"
      },
      "execution_count": 15,
      "outputs": [
        {
          "output_type": "execute_result",
          "data": {
            "text/plain": [
              "'spamspamspam'"
            ],
            "application/vnd.google.colaboratory.intrinsic+json": {
              "type": "string"
            }
          },
          "metadata": {},
          "execution_count": 15
        }
      ]
    },
    {
      "cell_type": "code",
      "source": [
        "'spam'*3"
      ],
      "metadata": {
        "colab": {
          "base_uri": "https://localhost:8080/",
          "height": 36
        },
        "id": "m8XmpHkf_xFk",
        "outputId": "0d0ec6f1-ddf3-446e-a2a2-93e3b8580884"
      },
      "execution_count": 18,
      "outputs": [
        {
          "output_type": "execute_result",
          "data": {
            "text/plain": [
              "'spamspamspam'"
            ],
            "application/vnd.google.colaboratory.intrinsic+json": {
              "type": "string"
            }
          },
          "metadata": {},
          "execution_count": 18
        }
      ]
    },
    {
      "cell_type": "markdown",
      "source": [
        "##8.Why is eggs a valid variable name while 100 is invalid?\n",
        "eggs: This is a valid variable name because it consists of letters only and doesn't conflict with any Python keywords.\n",
        "\n",
        "100: This is an invalid variable name because it starts with a digit, violating the rule that variable names cannot begin with a digit. Variables should start with a letter or an underscore."
      ],
      "metadata": {
        "id": "n6yaJPgqV8YZ"
      }
    },
    {
      "cell_type": "markdown",
      "source": [
        "##10.What three functions can be used to get the integer,floating-point number, or string version of a value?\n",
        "\n"
      ],
      "metadata": {
        "id": "_SQRJDdCXZww"
      }
    },
    {
      "cell_type": "code",
      "source": [
        "#int(): This function can be used to convert a value to an integer.\n",
        "#It takes a parameter and returns its integer representation, truncating any decimal places.\n",
        "value = 10.5\n",
        "integer_value = int(value)\n",
        "print(integer_value)\n"
      ],
      "metadata": {
        "colab": {
          "base_uri": "https://localhost:8080/"
        },
        "id": "cZz9uoEYVj0B",
        "outputId": "b2fb2435-fe00-4e8e-840c-e09b82ffd71d"
      },
      "execution_count": 22,
      "outputs": [
        {
          "output_type": "stream",
          "name": "stdout",
          "text": [
            "10\n"
          ]
        }
      ]
    },
    {
      "cell_type": "code",
      "source": [
        "#float(): This function can be used to convert a value to a floating-point number.\n",
        "#It takes a parameter and returns its floating-point representation.\n",
        "value = \"3.14\"\n",
        "float_value = float(value)\n",
        "print(float_value)\n"
      ],
      "metadata": {
        "colab": {
          "base_uri": "https://localhost:8080/"
        },
        "id": "wZgu0msEXtLi",
        "outputId": "7cae10fb-d7a1-4053-b926-76211e26c085"
      },
      "execution_count": 21,
      "outputs": [
        {
          "output_type": "stream",
          "name": "stdout",
          "text": [
            "3.14\n"
          ]
        }
      ]
    },
    {
      "cell_type": "code",
      "source": [
        "#str(): This function can be used to convert a value to a string.\n",
        "#It takes a parameter and returns its string representation.\n",
        "value = 42\n",
        "string_value = str(value)\n",
        "print(string_value)\n"
      ],
      "metadata": {
        "colab": {
          "base_uri": "https://localhost:8080/"
        },
        "id": "xYfqIOFJX2nO",
        "outputId": "cf43ccf2-0206-482a-91f5-df7b1aaebff8"
      },
      "execution_count": 23,
      "outputs": [
        {
          "output_type": "stream",
          "name": "stdout",
          "text": [
            "42\n"
          ]
        }
      ]
    },
    {
      "cell_type": "markdown",
      "source": [
        "##10.Why does this expression cause an error? How can you fix it?\n",
        "&#39;I have eaten &#39; + 99 + &#39; burritos.&#39;"
      ],
      "metadata": {
        "id": "leqFjF9UYZrf"
      }
    },
    {
      "cell_type": "code",
      "source": [
        "#To fix the error, you need to ensure that all the operands in the expression are of the same data type.\n",
        "#In this case, you can convert the integer '99' to a string using the str() function before concatenating it.\n",
        "'i have eaten ' + str(99) + ' burritos.'\n",
        "\n"
      ],
      "metadata": {
        "colab": {
          "base_uri": "https://localhost:8080/",
          "height": 36
        },
        "id": "TBRDCFZaYMOe",
        "outputId": "6ccbe5f2-0d96-4e0f-ac1d-fca9d7c2bfdf"
      },
      "execution_count": 27,
      "outputs": [
        {
          "output_type": "execute_result",
          "data": {
            "text/plain": [
              "'i have eaten 99 burritos.'"
            ],
            "application/vnd.google.colaboratory.intrinsic+json": {
              "type": "string"
            }
          },
          "metadata": {},
          "execution_count": 27
        }
      ]
    },
    {
      "cell_type": "code",
      "source": [],
      "metadata": {
        "id": "yoF7p_caY3Zd"
      },
      "execution_count": null,
      "outputs": []
    }
  ]
}